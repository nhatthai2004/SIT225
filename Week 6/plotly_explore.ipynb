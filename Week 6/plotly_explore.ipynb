{
 "cells": [
  {
   "cell_type": "code",
   "execution_count": 1,
   "metadata": {},
   "outputs": [
    {
     "name": "stdout",
     "output_type": "stream",
     "text": [
      "s223339662 Billy Thai\n"
     ]
    }
   ],
   "source": [
    "# Fill in student ID and name\n",
    "# \n",
    "student_id = \"s223339662\"\n",
    "student_first_last_name = \"Billy Thai\"\n",
    "print(student_id, student_first_last_name)"
   ]
  },
  {
   "cell_type": "code",
   "execution_count": 2,
   "metadata": {},
   "outputs": [
    {
     "name": "stdout",
     "output_type": "stream",
     "text": [
      "Requirement already satisfied: plotly in /Users/nhatthai157/opt/anaconda3/lib/python3.9/site-packages (5.9.0)\n",
      "Collecting dash\n",
      "  Downloading dash-2.17.1-py3-none-any.whl (7.5 MB)\n",
      "\u001b[2K     \u001b[90m━━━━━━━━━━━━━━━━━━━━━━━━━━━━━━━━━━━━━━━━\u001b[0m \u001b[32m7.5/7.5 MB\u001b[0m \u001b[31m12.2 MB/s\u001b[0m eta \u001b[36m0:00:00\u001b[0m00:01\u001b[0m00:01\u001b[0m\n",
      "\u001b[?25hRequirement already satisfied: tenacity>=6.2.0 in /Users/nhatthai157/opt/anaconda3/lib/python3.9/site-packages (from plotly) (8.0.1)\n",
      "Requirement already satisfied: setuptools in /Users/nhatthai157/opt/anaconda3/lib/python3.9/site-packages (from dash) (63.4.1)\n",
      "Collecting retrying\n",
      "  Downloading retrying-1.3.4-py3-none-any.whl (11 kB)\n",
      "Collecting dash-html-components==2.0.0\n",
      "  Downloading dash_html_components-2.0.0-py3-none-any.whl (4.1 kB)\n",
      "Requirement already satisfied: typing-extensions>=4.1.1 in /Users/nhatthai157/opt/anaconda3/lib/python3.9/site-packages (from dash) (4.3.0)\n",
      "Collecting dash-core-components==2.0.0\n",
      "  Downloading dash_core_components-2.0.0-py3-none-any.whl (3.8 kB)\n",
      "Requirement already satisfied: nest-asyncio in /Users/nhatthai157/opt/anaconda3/lib/python3.9/site-packages (from dash) (1.5.5)\n",
      "Requirement already satisfied: Flask<3.1,>=1.0.4 in /Users/nhatthai157/opt/anaconda3/lib/python3.9/site-packages (from dash) (1.1.2)\n",
      "Requirement already satisfied: importlib-metadata in /Users/nhatthai157/opt/anaconda3/lib/python3.9/site-packages (from dash) (4.11.3)\n",
      "Collecting dash-table==5.0.0\n",
      "  Downloading dash_table-5.0.0-py3-none-any.whl (3.9 kB)\n",
      "Requirement already satisfied: requests in /Users/nhatthai157/opt/anaconda3/lib/python3.9/site-packages (from dash) (2.28.1)\n",
      "Requirement already satisfied: Werkzeug<3.1 in /Users/nhatthai157/opt/anaconda3/lib/python3.9/site-packages (from dash) (2.0.3)\n",
      "Requirement already satisfied: itsdangerous>=0.24 in /Users/nhatthai157/opt/anaconda3/lib/python3.9/site-packages (from Flask<3.1,>=1.0.4->dash) (2.0.1)\n",
      "Requirement already satisfied: click>=5.1 in /Users/nhatthai157/opt/anaconda3/lib/python3.9/site-packages (from Flask<3.1,>=1.0.4->dash) (8.0.4)\n",
      "Requirement already satisfied: Jinja2>=2.10.1 in /Users/nhatthai157/opt/anaconda3/lib/python3.9/site-packages (from Flask<3.1,>=1.0.4->dash) (2.11.3)\n",
      "Requirement already satisfied: zipp>=0.5 in /Users/nhatthai157/opt/anaconda3/lib/python3.9/site-packages (from importlib-metadata->dash) (3.8.0)\n",
      "Requirement already satisfied: idna<4,>=2.5 in /Users/nhatthai157/opt/anaconda3/lib/python3.9/site-packages (from requests->dash) (3.3)\n",
      "Requirement already satisfied: charset-normalizer<3,>=2 in /Users/nhatthai157/opt/anaconda3/lib/python3.9/site-packages (from requests->dash) (2.0.4)\n",
      "Requirement already satisfied: urllib3<1.27,>=1.21.1 in /Users/nhatthai157/opt/anaconda3/lib/python3.9/site-packages (from requests->dash) (1.26.11)\n",
      "Requirement already satisfied: certifi>=2017.4.17 in /Users/nhatthai157/opt/anaconda3/lib/python3.9/site-packages (from requests->dash) (2024.7.4)\n",
      "Requirement already satisfied: six>=1.7.0 in /Users/nhatthai157/opt/anaconda3/lib/python3.9/site-packages (from retrying->dash) (1.16.0)\n",
      "Requirement already satisfied: MarkupSafe>=0.23 in /Users/nhatthai157/opt/anaconda3/lib/python3.9/site-packages (from Jinja2>=2.10.1->Flask<3.1,>=1.0.4->dash) (2.0.1)\n",
      "Installing collected packages: dash-table, dash-html-components, dash-core-components, retrying, dash\n",
      "Successfully installed dash-2.17.1 dash-core-components-2.0.0 dash-html-components-2.0.0 dash-table-5.0.0 retrying-1.3.4\n",
      "5.9.0\n",
      "2.17.1\n"
     ]
    }
   ],
   "source": [
    "# install plotly and dash, if not yet already\n",
    "! pip install plotly dash\n",
    "\n",
    "import plotly, dash\n",
    "print(plotly.__version__)\n",
    "print(dash.__version__)"
   ]
  },
  {
   "cell_type": "markdown",
   "metadata": {},
   "source": [
    "# Hello world\n",
    "Building and launching an app with Dash can be done with just 5 lines of code.\n",
    "Follow the tutorial (https://dash.plotly.com/tutorial) for more detail."
   ]
  },
  {
   "cell_type": "code",
   "execution_count": 4,
   "metadata": {
    "scrolled": true
   },
   "outputs": [
    {
     "name": "stdout",
     "output_type": "stream",
     "text": [
      "Dash app running on http://127.0.0.1:8050/\n"
     ]
    },
    {
     "data": {
      "application/javascript": [
       "window.open('http://127.0.0.1:8050/')"
      ],
      "text/plain": [
       "<IPython.core.display.Javascript object>"
      ]
     },
     "metadata": {},
     "output_type": "display_data"
    }
   ],
   "source": [
    "from dash import Dash, html\n",
    "\n",
    "\"\"\"\n",
    "Initialize the app.\n",
    " \n",
    "This line is known as the Dash constructor and is responsible for initializing your app. \n",
    "It is almost always the same for any Dash app you create.\n",
    "\"\"\" \n",
    "app = Dash()\n",
    "\n",
    "\n",
    "\"\"\"\n",
    "App layout.\n",
    "\n",
    "The app layout represents the app components that will be displayed in the web browser and \n",
    "here is provided as a list, though it could also be a Dash component. \n",
    "In this example, a single component was added to the list: an html.Div. \n",
    "The Div has a few properties, such as children, which we use to add text content to the page: \"Hello World\".\n",
    "\"\"\"\n",
    "app.layout = [\n",
    "    html.Div(children='Hello World'),\n",
    "    #*** Question: Add another html.Div to show your name, and re-run the cell for output.\n",
    "]\n",
    "\n",
    "if __name__ == '__main__':\n",
    "    app.run(debug=True, jupyter_mode=\"tab\")\n"
   ]
  },
  {
   "cell_type": "markdown",
   "metadata": {},
   "source": [
    "# Connecting to Data\n",
    "\n",
    "There are many ways to add data to an app: APIs, external databases, local .txt files, JSON files, and more. In this example, we will highlight one of the most common ways of incorporating data from a CSV sheet."
   ]
  },
  {
   "cell_type": "code",
   "execution_count": 6,
   "metadata": {},
   "outputs": [
    {
     "name": "stdout",
     "output_type": "stream",
     "text": [
      "       country         pop continent  lifeExp     gdpPercap\n",
      "0  Afghanistan  31889923.0      Asia   43.828    974.580338\n",
      "1      Albania   3600523.0    Europe   76.423   5937.029526\n",
      "2      Algeria  33333216.0    Africa   72.301   6223.367465\n",
      "3       Angola  12420476.0    Africa   42.731   4797.231267\n",
      "4    Argentina  40301927.0  Americas   75.320  12779.379640\n",
      "Data rowsXcols: (142, 5)\n",
      "Dash app running on http://127.0.0.1:8050/\n"
     ]
    },
    {
     "data": {
      "application/javascript": [
       "window.open('http://127.0.0.1:8050/')"
      ],
      "text/plain": [
       "<IPython.core.display.Javascript object>"
      ]
     },
     "metadata": {},
     "output_type": "display_data"
    }
   ],
   "source": [
    "# Import packages\n",
    "\n",
    "# We import the dash_table module to display the data inside a Dash DataTable.\n",
    "from dash import Dash, html, dash_table\n",
    "\n",
    "# We also import the pandas library to read the CSV sheet data.\n",
    "import pandas as pd\n",
    "\n",
    "# Incorporate data\n",
    "df = pd.read_csv('https://raw.githubusercontent.com/plotly/datasets/master/gapminder2007.csv')\n",
    "\n",
    "# Explore data\n",
    "print(df.head())\n",
    "print(\"Data rowsXcols:\", df.shape)\n",
    "\n",
    "# Initialize the app\n",
    "app = Dash()\n",
    "\n",
    "# App layout. \n",
    "# The 2nd item is a table with only 10 rows per page.\n",
    "app.layout = [\n",
    "    html.Div(children='My First App with Data'),\n",
    "    dash_table.DataTable(data=df.to_dict('records'), page_size=15)\n",
    "    #*** Question: Change page size and observe the change in widget controls\n",
    "    # such as, total number of pages.\n",
    "]\n",
    "\n",
    "# Run the app\n",
    "if __name__ == '__main__':\n",
    "    app.run(debug=True, jupyter_mode=\"tab\")\n"
   ]
  },
  {
   "cell_type": "markdown",
   "metadata": {},
   "source": [
    "# Visualising data\n",
    "\n",
    "The Plotly graphing library has more than 50 chart types to choose from. In this example, we will make use of the histogram chart."
   ]
  },
  {
   "cell_type": "code",
   "execution_count": 8,
   "metadata": {},
   "outputs": [
    {
     "name": "stdout",
     "output_type": "stream",
     "text": [
      "       country         pop continent  lifeExp     gdpPercap\n",
      "0  Afghanistan  31889923.0      Asia   43.828    974.580338\n",
      "1      Albania   3600523.0    Europe   76.423   5937.029526\n",
      "2      Algeria  33333216.0    Africa   72.301   6223.367465\n",
      "3       Angola  12420476.0    Africa   42.731   4797.231267\n",
      "4    Argentina  40301927.0  Americas   75.320  12779.379640\n",
      "Data rowsXcols: (142, 5)\n",
      "Dash app running on http://127.0.0.1:8050/\n"
     ]
    },
    {
     "data": {
      "application/javascript": [
       "window.open('http://127.0.0.1:8050/')"
      ],
      "text/plain": [
       "<IPython.core.display.Javascript object>"
      ]
     },
     "metadata": {},
     "output_type": "display_data"
    }
   ],
   "source": [
    "# Import packages\n",
    "\n",
    "# We import the dcc module (DCC stands for Dash Core Components). \n",
    "# This module includes a Graph component called dcc.Graph, which is used to render interactive graphs.\n",
    "from dash import Dash, html, dash_table, dcc\n",
    "\n",
    "# We also import the plotly.express library to build the interactive graphs.\n",
    "import plotly.express as px\n",
    "\n",
    "import pandas as pd\n",
    "\n",
    "# Incorporate data\n",
    "df = pd.read_csv('https://raw.githubusercontent.com/plotly/datasets/master/gapminder2007.csv')\n",
    "\n",
    "# Explore data\n",
    "print(df.head())\n",
    "print(\"Data rowsXcols:\", df.shape)\n",
    "\n",
    "# Initialize the app\n",
    "app = Dash()\n",
    "\n",
    "# App layout\n",
    "# 3rd component is an interactive graph (interaction no shown this this example).\n",
    "# \n",
    "# Using the plotly.express library, we build the histogram chart \n",
    "# and assign it to the figure property of the dcc.Graph. This displays the histogram in our app.\n",
    "# \n",
    "app.layout = [\n",
    "    html.Div(children='My First App with Data and a Graph'),\n",
    "    dash_table.DataTable(data=df.to_dict('records'), page_size=10),\n",
    "    dcc.Graph(figure=px.histogram(df, x='continent', y='lifeExp', histfunc='sum'))\n",
    "    #*** Question: Explore another histfunc other than 'avg' used above and observe behaviour.\n",
    "]\n",
    "\n",
    "# Run the app\n",
    "if __name__ == '__main__':\n",
    "    app.run(debug=True, jupyter_mode=\"tab\")\n"
   ]
  },
  {
   "cell_type": "markdown",
   "metadata": {},
   "source": [
    "# Controls and Callbacks\n",
    "\n",
    "So far you have built a static app that displays tabular data and a graph. However, as you develop more sophisticated Dash apps, you will likely want to give the app user more freedom to interact with the app and explore the data in greater depth. To achieve that, you will need to add controls to the app by using the callback function.\n",
    "\n",
    "In this example we will add radio buttons to the app layout. Then, we will build the callback to create the interaction between the radio buttons and the histogram chart."
   ]
  },
  {
   "cell_type": "code",
   "execution_count": 12,
   "metadata": {},
   "outputs": [
    {
     "name": "stdout",
     "output_type": "stream",
     "text": [
      "Dash app running on http://127.0.0.1:8050/\n"
     ]
    },
    {
     "data": {
      "application/javascript": [
       "window.open('http://127.0.0.1:8050/')"
      ],
      "text/plain": [
       "<IPython.core.display.Javascript object>"
      ]
     },
     "metadata": {},
     "output_type": "display_data"
    }
   ],
   "source": [
    "# Import packages\n",
    "\n",
    "# We import dcc like we did in the previous section to use dcc.Graph. \n",
    "# In this example, we need dcc for dcc.Graph as well as the radio buttons component, dcc.RadioItems.\n",
    "# \n",
    "# To work with the callback in a Dash app, we import the callback module and the two arguments \n",
    "# commonly used within the callback: Output and Input.\n",
    "# \n",
    "from dash import Dash, html, dash_table, dcc, callback, Output, Input\n",
    "import pandas as pd\n",
    "import plotly.express as px\n",
    "\n",
    "# Incorporate data\n",
    "df = pd.read_csv('https://raw.githubusercontent.com/plotly/datasets/master/gapminder2007.csv')\n",
    "\n",
    "# Initialize the app\n",
    "app = Dash()\n",
    "\n",
    "# App layout\n",
    "app.layout = [\n",
    "    html.Div(children='My First App with Data, Graph, and Controls'),\n",
    "    html.Hr(),\n",
    "    dcc.RadioItems(options=['pop', 'lifeExp', 'gdpPercap'], value='lifeExp', id='controls-and-radio-item'),\n",
    "    dash_table.DataTable(data=df.to_dict('records'), page_size=6),\n",
    "    dcc.Graph(figure={}, id='controls-and-graph')\n",
    "    #*** Question: Use line graphs instead of histogram.\n",
    "]\n",
    "\n",
    "# \n",
    "# Notice that we add that RadioItems component to the layout, directly above the DataTable. \n",
    "# There are three options, one for every radio button. \n",
    "# The lifeExp option is assigned to the value property, making it the currently selected value.\n",
    "# \n",
    "# Both the RadioItems and the Graph components were given id names: these will be used by \n",
    "# the callback to identify the components.\n",
    "# \n",
    "# The inputs and outputs of our app are the properties of a particular component. \n",
    "# In this example, our input is the value property of the component that has the ID \"controls-and-radio-item\". \n",
    "# If you look back at the layout, you will see that this is currently lifeExp. \n",
    "# Our output is the figure property of the component with the ID \"controls-and-graph\", which \n",
    "# is currently an empty dictionary (empty graph).\n",
    "# \n",
    "# The callback function's argument col_chosen refers to the component property of the input lifeExp. \n",
    "# We build the histogram chart inside the callback function, assigning the chosen radio item to the \n",
    "# y-axis attribute of the histogram. This means that every time the user selects a new radio item, \n",
    "# the figure is rebuilt and the y-axis of the figure is updated.\n",
    "# \n",
    "# Finally, we return the histogram at the end of the function. This assigns the histogram to the figure \n",
    "# property of the dcc.Graph, thus displaying the figure in the app.\n",
    "# \n",
    "\n",
    "# Add controls to build the interaction\n",
    "@callback(\n",
    "    Output(component_id='controls-and-graph', component_property='figure'),\n",
    "    Input(component_id='controls-and-radio-item', component_property='value')\n",
    ")\n",
    "def update_graph(col_chosen):\n",
    "    fig = px.line(df, x='continent', y=col_chosen,markers= True, title=f\"{col_chosen}\")\n",
    "    return fig\n",
    "\n",
    "# Run the app\n",
    "if __name__ == '__main__':\n",
    "    app.run(debug=True, jupyter_mode=\"tab\")\n"
   ]
  },
  {
   "cell_type": "code",
   "execution_count": null,
   "metadata": {},
   "outputs": [],
   "source": []
  }
 ],
 "metadata": {
  "kernelspec": {
   "display_name": "Python 3 (ipykernel)",
   "language": "python",
   "name": "python3"
  },
  "language_info": {
   "codemirror_mode": {
    "name": "ipython",
    "version": 3
   },
   "file_extension": ".py",
   "mimetype": "text/x-python",
   "name": "python",
   "nbconvert_exporter": "python",
   "pygments_lexer": "ipython3",
   "version": "3.9.13"
  }
 },
 "nbformat": 4,
 "nbformat_minor": 4
}
