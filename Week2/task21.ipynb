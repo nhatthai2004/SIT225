{
 "cells": [
  {
   "cell_type": "code",
   "execution_count": null,
   "id": "34a4d816-0bdb-4d8d-8eb9-dddaf31d32a5",
   "metadata": {},
   "outputs": [],
   "source": [
    "import serial\n",
    "import time\n",
    "from datetime import datetime\n",
    "\n",
    "# Open serial port\n",
    "ser = serial.Serial('/dev/cu.usbmodem101', 9600)  # Update the port as necessary\n",
    "\n",
    "# File name\n",
    "accel_file = 'accelerometer_data.csv'\n",
    "\n",
    "# Open file in append mode\n",
    "with open(accel_file, 'a') as af:\n",
    "    while True:\n",
    "        line = ser.readline().decode('utf-8').strip()\n",
    "        data = line.split(',')\n",
    "        \n",
    "        if len(data) == 3:\n",
    "            # Get timestamp\n",
    "            timestamp = datetime.now().strftime('%Y%m%d%H%M%S')\n",
    "            \n",
    "            # Save accelerometer data\n",
    "            accel_data = f\"{timestamp},{data[0]},{data[1]},{data[2]}\\n\"\n",
    "            af.write(accel_data)\n",
    "\n",
    "        # Sleep to limit loop speed\n",
    "        time.sleep(0.1)\n"
   ]
  },
  {
   "cell_type": "code",
   "execution_count": null,
   "id": "28dd1c3e-6089-40ae-abba-ddc921341deb",
   "metadata": {},
   "outputs": [],
   "source": []
  }
 ],
 "metadata": {
  "kernelspec": {
   "display_name": "Python 3 (ipykernel)",
   "language": "python",
   "name": "python3"
  },
  "language_info": {
   "codemirror_mode": {
    "name": "ipython",
    "version": 3
   },
   "file_extension": ".py",
   "mimetype": "text/x-python",
   "name": "python",
   "nbconvert_exporter": "python",
   "pygments_lexer": "ipython3",
   "version": "3.9.13"
  }
 },
 "nbformat": 4,
 "nbformat_minor": 5
}
