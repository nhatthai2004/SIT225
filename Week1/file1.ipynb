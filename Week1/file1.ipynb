{
 "cells": [
  {
   "cell_type": "code",
   "execution_count": 1,
   "id": "8f1e6362-cc43-42b4-8e7e-2133d7367f2f",
   "metadata": {},
   "outputs": [
    {
     "name": "stdout",
     "output_type": "stream",
     "text": [
      "Requirement already satisfied: pyserial in /Users/nhatthai157/opt/anaconda3/lib/python3.9/site-packages (3.5)\n"
     ]
    }
   ],
   "source": [
    "!pip install pyserial "
   ]
  },
  {
   "cell_type": "code",
   "execution_count": 3,
   "id": "4700e638-4d3d-43fa-9a27-f1e0a1ac2faa",
   "metadata": {},
   "outputs": [],
   "source": [
    "import serial\n",
    "import random\n",
    "import time \n"
   ]
  },
  {
   "cell_type": "code",
   "execution_count": null,
   "id": "e919f60d-c28c-4b10-863d-b59b7bcfb508",
   "metadata": {},
   "outputs": [
    {
     "name": "stdout",
     "output_type": "stream",
     "text": [
      "Send >>> 49 (2 bytes)\n",
      "Recv <<< \n",
      "Send >>> 34 (2 bytes)\n",
      "Recv <<< \n",
      "Send >>> 33 (2 bytes)\n",
      "Recv <<< \n",
      "Send >>> 12 (2 bytes)\n",
      "Recv <<< \n",
      "Send >>> 16 (2 bytes)\n",
      "Recv <<< \n",
      "Send >>> 34 (2 bytes)\n",
      "Recv <<< \n",
      "Send >>> 44 (2 bytes)\n",
      "Recv <<< \n",
      "Send >>> 14 (2 bytes)\n",
      "Recv <<< \n",
      "Send >>> 8 (1 bytes)\n",
      "Recv <<< \n",
      "Send >>> 45 (2 bytes)\n",
      "Recv <<< \n",
      "Send >>> 21 (2 bytes)\n",
      "Recv <<< \n",
      "Send >>> 6 (1 bytes)\n",
      "Recv <<< \n",
      "Send >>> 31 (2 bytes)\n",
      "Recv <<< \n",
      "Send >>> 25 (2 bytes)\n",
      "Recv <<< \n",
      "Send >>> 50 (2 bytes)\n",
      "Recv <<< \n",
      "Send >>> 38 (2 bytes)\n",
      "Recv <<< \n",
      "Send >>> 27 (2 bytes)\n",
      "Recv <<< \n",
      "Send >>> 11 (2 bytes)\n",
      "Recv <<< \n",
      "Send >>> 37 (2 bytes)\n",
      "Recv <<< \n",
      "Send >>> 17 (2 bytes)\n",
      "Recv <<< \n",
      "Send >>> 22 (2 bytes)\n",
      "Recv <<< \n",
      "Send >>> 13 (2 bytes)\n",
      "Recv <<< \n",
      "Send >>> 20 (2 bytes)\n",
      "Recv <<< \n",
      "Send >>> 48 (2 bytes)\n"
     ]
    }
   ],
   "source": [
    "#set baud rate, same speed as set in your Arduino sketch\n",
    "boud_rate = 9600\n",
    "\n",
    "# set serial port as suits your operating system\n",
    "s = serial.Serial('/dev/cu.Bluetooth-Incoming-Port', boud_rate, timeout=5)\n",
    "\n",
    "while True:  # infinite loop, keep running\n",
    "\n",
    "    #  a random number between 5 and 50.\n",
    "    data_send = random.randint(5, 50)\n",
    "\n",
    "    # write to serial port, set data encoding. \n",
    "    # Raw bytes are sent through serial ports, Python bytes() needs \n",
    "    # to know the encoding to generate bytes from string.\n",
    "    # \n",
    "    # We send a single integer which is read from Arduino sketch.\n",
    "    # \n",
    "    d = s.write(bytes(str(data_send), 'utf-8'))\n",
    "    print(f\"Send >>> {data_send} ({d} bytes)\")\n",
    "\n",
    "    # Read from serial port. \n",
    "    # \n",
    "    # readline keeps reading until a newline found in the data stream.\n",
    "    # Unlike write above, we just send an integer with no newline.\n",
    "    # You should receive data the same way as it is sent.\n",
    "    # \n",
    "    d = s.readline().decode(\"utf-8\")\n",
    "    print(f\"Recv <<< {d}\")"
   ]
  },
  {
   "cell_type": "code",
   "execution_count": null,
   "id": "6706824c-a7e8-476d-8569-760e861c20ab",
   "metadata": {},
   "outputs": [],
   "source": []
  }
 ],
 "metadata": {
  "kernelspec": {
   "display_name": "Python 3 (ipykernel)",
   "language": "python",
   "name": "python3"
  },
  "language_info": {
   "codemirror_mode": {
    "name": "ipython",
    "version": 3
   },
   "file_extension": ".py",
   "mimetype": "text/x-python",
   "name": "python",
   "nbconvert_exporter": "python",
   "pygments_lexer": "ipython3",
   "version": "3.9.13"
  }
 },
 "nbformat": 4,
 "nbformat_minor": 5
}
