{
 "cells": [
  {
   "cell_type": "code",
   "execution_count": 2,
   "id": "213fe399-1f6f-4abd-bfdd-92fd23a36ad5",
   "metadata": {},
   "outputs": [
    {
     "name": "stdout",
     "output_type": "stream",
     "text": [
      "Cleaned data saved. Rows before cleaning: 360, Rows after cleaning: 360\n"
     ]
    }
   ],
   "source": [
    "import pandas as pd\n",
    "import matplotlib.pyplot as plt\n",
    "\n",
    "# Read the CSV file\n",
    "df = pd.read_csv(\"DHT22_data.csv\")\n",
    "\n",
    "# Convert timestamp to datetime\n",
    "df['Timestamp'] = pd.to_datetime(df['Timestamp'], format='%Y%m%d%H%M%S')\n",
    "\n",
    "# Remove rows with missing data\n",
    "df = df.dropna()\n",
    "\n",
    "# Remove rows with unrealistic values (adjust these ranges as needed)\n",
    "df = df[(df['Temperature'] > -40) & (df['Temperature'] < 80)]\n",
    "df = df[(df['Humidity'] >= 0) & (df['Humidity'] <= 100)]\n",
    "\n",
    "# Save the cleaned data\n",
    "df.to_csv(\"DHT22_data_cleaned.csv\", index=False)\n",
    "\n",
    "print(f\"Cleaned data saved. Rows before cleaning: {len(df)}, Rows after cleaning: {len(df)}\")"
   ]
  },
  {
   "cell_type": "code",
   "execution_count": 4,
   "id": "e0327424-abf0-4075-a416-44ddc2175230",
   "metadata": {},
   "outputs": [],
   "source": [
    "# Separate plots\n",
    "plt.figure(figsize=(12, 6))\n",
    "plt.plot(df['Timestamp'], df['Temperature'])\n",
    "plt.title('Temperature over Time')\n",
    "plt.xlabel('Timestamp')\n",
    "plt.ylabel('Temperature (°C)')\n",
    "plt.xticks(rotation=45)\n",
    "plt.tight_layout()\n",
    "plt.savefig('temperature_plot.png')\n",
    "plt.close()\n",
    "\n",
    "plt.figure(figsize=(12, 6))\n",
    "plt.plot(df['Timestamp'], df['Humidity'])\n",
    "plt.title('Humidity over Time')\n",
    "plt.xlabel('Timestamp')\n",
    "plt.ylabel('Humidity (%)')\n",
    "plt.xticks(rotation=45)\n",
    "plt.tight_layout()\n",
    "plt.savefig('humidity_plot.png')\n",
    "plt.close()\n",
    "\n",
    "# Combined plot\n",
    "plt.figure(figsize=(12, 6))\n",
    "plt.plot(df['Timestamp'], df['Temperature'], label='Temperature')\n",
    "plt.plot(df['Timestamp'], df['Humidity'], label='Humidity')\n",
    "plt.title('Temperature and Humidity over Time')\n",
    "plt.xlabel('Timestamp')\n",
    "plt.ylabel('Value')\n",
    "plt.legend()\n",
    "plt.xticks(rotation=45)\n",
    "plt.tight_layout()\n",
    "plt.savefig('combined_plot.png')\n",
    "plt.close()"
   ]
  },
  {
   "cell_type": "code",
   "execution_count": null,
   "id": "322c4365-78da-4827-ac36-f9c7663c0226",
   "metadata": {},
   "outputs": [],
   "source": []
  }
 ],
 "metadata": {
  "kernelspec": {
   "display_name": "Python 3 (ipykernel)",
   "language": "python",
   "name": "python3"
  },
  "language_info": {
   "codemirror_mode": {
    "name": "ipython",
    "version": 3
   },
   "file_extension": ".py",
   "mimetype": "text/x-python",
   "name": "python",
   "nbconvert_exporter": "python",
   "pygments_lexer": "ipython3",
   "version": "3.9.13"
  }
 },
 "nbformat": 4,
 "nbformat_minor": 5
}
