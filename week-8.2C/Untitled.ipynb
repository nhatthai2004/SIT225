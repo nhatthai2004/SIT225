{
 "cells": [
  {
   "cell_type": "code",
   "execution_count": 4,
   "id": "a86a3adb-96c1-4f6f-aa4b-e336322bccf6",
   "metadata": {},
   "outputs": [],
   "source": [
    "import plotly.graph_objs as go\n",
    "\n",
    "def update_graphs():\n",
    "    global buffer_data\n",
    "    \n",
    "    # Convert buffer_data to separate lists for X, Y, Z\n",
    "    x_data = [data[0] for data in buffer_data]\n",
    "    y_data = [data[1] for data in buffer_data]\n",
    "    z_data = [data[2] for data in buffer_data]\n",
    "    \n",
    "    # Plot the data\n",
    "    fig = go.Figure()\n",
    "    fig.add_trace(go.Scatter(x=list(range(len(x_data))), y=x_data, mode='lines', name='X Axis'))\n",
    "    fig.add_trace(go.Scatter(x=list(range(len(y_data))), y=y_data, mode='lines', name='Y Axis'))\n",
    "    fig.add_trace(go.Scatter(x=list(range(len(z_data))), y=z_data, mode='lines', name='Z Axis'))\n",
    "    \n",
    "    # Save the plot\n",
    "    timestamp = datetime.now().strftime('%Y%m%d_%H%M%S')\n",
    "    fig.write_image(f'plot_{timestamp}.png')\n",
    "    \n",
    "    # Save the data to CSV\n",
    "    with open(f'data_{timestamp}.csv', 'w', newline='') as file:\n",
    "        writer = csv.writer(file)\n",
    "        writer.writerow(['X', 'Y', 'Z'])\n",
    "        writer.writerows(buffer_data)\n",
    "    \n",
    "    # Update the Plotly Dash app\n",
    "    # Assuming `app` is your Dash app and `graph_id` is the ID of the graph component\n",
    "    app.update_layout(\n",
    "        go.Figure(data=[\n",
    "            go.Scatter(x=list(range(len(x_data))), y=x_data, mode='lines', name='X Axis'),\n",
    "            go.Scatter(x=list(range(len(y_data))), y=y_data, mode='lines', name='Y Axis'),\n",
    "            go.Scatter(x=list(range(len(z_data))), y=z_data, mode='lines', name='Z Axis')\n",
    "        ])\n",
    "    )\n"
   ]
  },
  {
   "cell_type": "code",
   "execution_count": 6,
   "id": "c97e15c6-d8d5-4ee4-b8a1-7d6f06a43758",
   "metadata": {},
   "outputs": [
    {
     "data": {
      "text/html": [
       "\n",
       "        <iframe\n",
       "            width=\"100%\"\n",
       "            height=\"650\"\n",
       "            src=\"http://127.0.0.1:8060/\"\n",
       "            frameborder=\"0\"\n",
       "            allowfullscreen\n",
       "            \n",
       "        ></iframe>\n",
       "        "
      ],
      "text/plain": [
       "<IPython.lib.display.IFrame at 0x7f89b9083fd0>"
      ]
     },
     "metadata": {},
     "output_type": "display_data"
    }
   ],
   "source": [
    "from collections import deque\n",
    "import dash\n",
    "from dash import dcc, html, Input, Output\n",
    "import plotly.graph_objs as go\n",
    "import numpy as np\n",
    "from datetime import datetime\n",
    "import csv\n",
    "\n",
    "def create_live_update_dash(data_fetcher, graph_id='live-graph', refresh_rate=1000, max_samples=200, port=8050):\n",
    "    \"\"\"\n",
    "    Creates a live updating Dash application for continuous data monitoring.\n",
    "\n",
    "    :param data_fetcher: A callable that fetches new data points (returns a tuple/list of [x, y, z]).\n",
    "    :param graph_id: The ID for the Dash graph element.\n",
    "    :param refresh_rate: Time interval (in milliseconds) for graph updates.\n",
    "    :param max_samples: Maximum number of data samples to display on the graph.\n",
    "    :param port: Port number for running the Dash server.\n",
    "    \"\"\"\n",
    "    # Buffer to hold incoming data points\n",
    "    data_buffer = deque(maxlen=max_samples)\n",
    "\n",
    "    # Initialize Dash app\n",
    "    app = dash.Dash(__name__)\n",
    "    app.layout = html.Div([\n",
    "        dcc.Graph(id=graph_id),\n",
    "        dcc.Interval(id='interval-component', interval=refresh_rate, n_intervals=0)\n",
    "    ])\n",
    "\n",
    "    @app.callback(\n",
    "        Output(graph_id, 'figure'),\n",
    "        [Input('interval-component', 'n_intervals')]\n",
    "    )\n",
    "    def update_graph(n):\n",
    "        # Fetch new data from the data source\n",
    "        new_data = data_fetcher()\n",
    "\n",
    "        if new_data:\n",
    "            data_buffer.append(new_data)  # Add new data to the buffer\n",
    "\n",
    "        # Extract X, Y, Z components from the buffer\n",
    "        x_data = [point[0] for point in data_buffer]\n",
    "        y_data = [point[1] for point in data_buffer]\n",
    "        z_data = [point[2] for point in data_buffer]\n",
    "\n",
    "        # Create the figure for the graph\n",
    "        fig = go.Figure()\n",
    "        fig.add_trace(go.Scatter(x=list(range(len(x_data))), y=x_data, mode='lines+markers', name='X Axis'))\n",
    "        fig.add_trace(go.Scatter(x=list(range(len(y_data))), y=y_data, mode='lines+markers', name='Y Axis'))\n",
    "        fig.add_trace(go.Scatter(x=list(range(len(z_data))), y=z_data, mode='lines+markers', name='Z Axis'))\n",
    "\n",
    "        # Set graph layout\n",
    "        fig.update_layout(\n",
    "            title='Live Accelerometer Data',\n",
    "            xaxis=dict(title='Sample Index'),\n",
    "            yaxis=dict(title='Values'),\n",
    "            uirevision='constant'  # Prevent auto-scaling during updates\n",
    "        )\n",
    "\n",
    "        return fig\n",
    "\n",
    "    # Run the Dash server\n",
    "    app.run_server(debug=True, port=port)\n",
    "\n",
    "# Example data fetcher function to simulate incoming data\n",
    "def mock_data_fetcher():\n",
    "    # Simulate continuous data points; replace with real data fetching logic\n",
    "    return [np.random.randn(), np.random.randn(), np.random.randn()]\n",
    "\n",
    "# Example of how to use the reusable function\n",
    "create_live_update_dash(data_fetcher=mock_data_fetcher, refresh_rate=500, max_samples=150, port=8060)\n",
    "\n"
   ]
  },
  {
   "cell_type": "code",
   "execution_count": 3,
   "id": "d6a92ea4-c9b6-4437-8f8c-a9cae98f7165",
   "metadata": {},
   "outputs": [
    {
     "name": "stdout",
     "output_type": "stream",
     "text": [
      "Mean X: -0.0003091831399936869, Variance X: 0.001566523731599973\n",
      "Mean Y: -0.032519716205018936, Variance Y: 3.091310641636765e-05\n",
      "Mean Z: -0.9956202651515151, Variance Z: 3.987440756472044e-06\n"
     ]
    }
   ],
   "source": [
    "import pandas as pd\n",
    "\n",
    "# Load CSV data\n",
    "data = pd.read_csv('Python_Accelerometer_Combined.csv')\n",
    "\n",
    "# Statistical measures\n",
    "mean_x = data['X_value'].mean()\n",
    "mean_y = data['Y_value'].mean()\n",
    "mean_z = data['Z_value'].mean()\n",
    "variance_x = data['X_value'].var()\n",
    "variance_y = data['Y_value'].var()\n",
    "variance_z = data['Z_value'].var()\n",
    "\n",
    "print(f\"Mean X: {mean_x}, Variance X: {variance_x}\")\n",
    "print(f\"Mean Y: {mean_y}, Variance Y: {variance_y}\")\n",
    "print(f\"Mean Z: {mean_z}, Variance Z: {variance_z}\")\n"
   ]
  },
  {
   "cell_type": "code",
   "execution_count": null,
   "id": "1d77f4f6-73d4-42cb-80f8-1398b69f6345",
   "metadata": {},
   "outputs": [],
   "source": []
  }
 ],
 "metadata": {
  "kernelspec": {
   "display_name": "Python 3 (ipykernel)",
   "language": "python",
   "name": "python3"
  },
  "language_info": {
   "codemirror_mode": {
    "name": "ipython",
    "version": 3
   },
   "file_extension": ".py",
   "mimetype": "text/x-python",
   "name": "python",
   "nbconvert_exporter": "python",
   "pygments_lexer": "ipython3",
   "version": "3.9.13"
  }
 },
 "nbformat": 4,
 "nbformat_minor": 5
}
