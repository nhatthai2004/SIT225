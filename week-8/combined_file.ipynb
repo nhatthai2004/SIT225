{
 "cells": [
  {
   "cell_type": "code",
   "execution_count": null,
   "id": "530752a0-f413-4cbe-a19b-39b35d4664ee",
   "metadata": {},
   "outputs": [
    {
     "name": "stdout",
     "output_type": "stream",
     "text": [
      "Connect to Client\n"
     ]
    },
    {
     "name": "stderr",
     "output_type": "stream",
     "text": [
      "ERROR:root:task: connection_task raised exception: .\n",
      "ERROR:root:task: discovery raised exception: .\n"
     ]
    },
    {
     "name": "stdout",
     "output_type": "stream",
     "text": [
      "New X value: -0.0069580078125\n",
      "Generated timestamp: 2024-09-03 11:32:31\n",
      "New Y value: -0.0320587158203125\n",
      "Generated timestamp: 2024-09-03 11:32:31\n",
      "New Z value: -0.99560546875\n",
      "Generated timestamp: 2024-09-03 11:32:31\n",
      "Saved data: [['2024-09-03 11:32:31', -0.0069580078125, -0.0320587158203125, -0.99560546875]]\n",
      "New X value: -0.0077362060546875\n",
      "Generated timestamp: 2024-09-03 11:32:32\n",
      "Saved data: [['2024-09-03 11:32:32', -0.0077362060546875, -0.0320587158203125, -0.99560546875]]\n",
      "New Y value: -0.0318603515625\n",
      "Generated timestamp: 2024-09-03 11:32:33\n",
      "Saved data: [['2024-09-03 11:32:33', -0.0077362060546875, -0.0318603515625, -0.99560546875]]\n",
      "New Z value: -0.9957733154296875\n",
      "Generated timestamp: 2024-09-03 11:32:34\n",
      "Saved data: [['2024-09-03 11:32:34', -0.0077362060546875, -0.0318603515625, -0.9957733154296875]]\n",
      "New X value: -0.0078887939453125\n",
      "Generated timestamp: 2024-09-03 11:32:35\n",
      "Saved data: [['2024-09-03 11:32:35', -0.0078887939453125, -0.0318603515625, -0.9957733154296875]]\n",
      "New Y value: -0.031982421875\n",
      "Generated timestamp: 2024-09-03 11:32:36\n",
      "Saved data: [['2024-09-03 11:32:36', -0.0078887939453125, -0.031982421875, -0.9957733154296875]]\n",
      "New Z value: -0.995208740234375\n",
      "Generated timestamp: 2024-09-03 11:32:37\n",
      "Saved data: [['2024-09-03 11:32:37', -0.0078887939453125, -0.031982421875, -0.995208740234375]]\n",
      "New X value: -0.006866455078125\n",
      "Generated timestamp: 2024-09-03 11:32:38\n",
      "Saved data: [['2024-09-03 11:32:38', -0.006866455078125, -0.031982421875, -0.995208740234375]]\n",
      "New Y value: -0.03411865234375\n",
      "Generated timestamp: 2024-09-03 11:32:39\n",
      "Saved data: [['2024-09-03 11:32:39', -0.006866455078125, -0.03411865234375, -0.995208740234375]]\n",
      "New Z value: -0.995330810546875\n",
      "Generated timestamp: 2024-09-03 11:32:40\n",
      "Saved data: [['2024-09-03 11:32:40', -0.006866455078125, -0.03411865234375, -0.995330810546875]]\n",
      "New X value: -0.0079498291015625\n",
      "Generated timestamp: 2024-09-03 11:32:41\n",
      "Saved data: [['2024-09-03 11:32:41', -0.0079498291015625, -0.03411865234375, -0.995330810546875]]\n",
      "New Y value: -0.0331878662109375\n",
      "Generated timestamp: 2024-09-03 11:32:42\n",
      "Saved data: [['2024-09-03 11:32:42', -0.0079498291015625, -0.0331878662109375, -0.995330810546875]]\n",
      "New Z value: -0.9957275390625\n",
      "Generated timestamp: 2024-09-03 11:32:43\n",
      "Saved data: [['2024-09-03 11:32:43', -0.0079498291015625, -0.0331878662109375, -0.9957275390625]]\n",
      "New X value: -0.00830078125\n",
      "Generated timestamp: 2024-09-03 11:32:44\n",
      "Saved data: [['2024-09-03 11:32:44', -0.00830078125, -0.0331878662109375, -0.9957275390625]]\n",
      "New Y value: -0.033538818359375\n",
      "Generated timestamp: 2024-09-03 11:32:45\n",
      "Saved data: [['2024-09-03 11:32:45', -0.00830078125, -0.033538818359375, -0.9957275390625]]\n",
      "New Z value: -0.9963226318359375\n",
      "Generated timestamp: 2024-09-03 11:32:46\n",
      "Saved data: [['2024-09-03 11:32:46', -0.00830078125, -0.033538818359375, -0.9963226318359375]]\n",
      "New X value: -0.006378173828125\n",
      "Generated timestamp: 2024-09-03 11:32:47\n",
      "Saved data: [['2024-09-03 11:32:47', -0.006378173828125, -0.033538818359375, -0.9963226318359375]]\n"
     ]
    },
    {
     "name": "stderr",
     "output_type": "stream",
     "text": [
      "ERROR:root:task: mqtt_task raised exception: [Errno 32] Broken pipe.\n"
     ]
    },
    {
     "name": "stdout",
     "output_type": "stream",
     "text": [
      "New Y value: -0.032684326171875\n",
      "Generated timestamp: 2024-09-03 11:32:48\n",
      "Saved data: [['2024-09-03 11:32:48', -0.006378173828125, -0.032684326171875, -0.9963226318359375]]\n"
     ]
    },
    {
     "name": "stderr",
     "output_type": "stream",
     "text": [
      "ERROR:root:task: connection_task raised exception: .\n"
     ]
    },
    {
     "name": "stdout",
     "output_type": "stream",
     "text": [
      "New X value: 0.002716064453125\n",
      "Generated timestamp: 2024-09-03 11:32:52\n",
      "Saved data: [['2024-09-03 11:32:52', 0.002716064453125, -0.032684326171875, -0.9963226318359375]]\n",
      "New Y value: -0.0383148193359375\n",
      "Generated timestamp: 2024-09-03 11:32:53\n",
      "Saved data: [['2024-09-03 11:32:53', 0.002716064453125, -0.0383148193359375, -0.9963226318359375]]\n",
      "New Z value: -0.995025634765625\n",
      "Generated timestamp: 2024-09-03 11:32:54\n",
      "Saved data: [['2024-09-03 11:32:54', 0.002716064453125, -0.0383148193359375, -0.995025634765625]]\n"
     ]
    },
    {
     "name": "stderr",
     "output_type": "stream",
     "text": [
      "ERROR:root:task: mqtt_task raised exception: TLS/SSL connection has been closed (EOF) (_ssl.c:2483).\n",
      "ERROR:root:task: connection_task raised exception: .\n"
     ]
    },
    {
     "name": "stdout",
     "output_type": "stream",
     "text": [
      "New X value: -0.0081939697265625\n",
      "Generated timestamp: 2024-09-03 11:33:06\n",
      "Saved data: [['2024-09-03 11:33:06', -0.0081939697265625, -0.0383148193359375, -0.995025634765625]]\n",
      "New Y value: -0.0346221923828125\n",
      "Generated timestamp: 2024-09-03 11:33:07\n",
      "Saved data: [['2024-09-03 11:33:07', -0.0081939697265625, -0.0346221923828125, -0.995025634765625]]\n",
      "New Z value: -0.9955596923828125\n",
      "Generated timestamp: 2024-09-03 11:33:08\n",
      "Saved data: [['2024-09-03 11:33:08', -0.0081939697265625, -0.0346221923828125, -0.9955596923828125]]\n",
      "New X value: -0.009613037109375\n",
      "Generated timestamp: 2024-09-03 11:33:09\n",
      "Saved data: [['2024-09-03 11:33:09', -0.009613037109375, -0.0346221923828125, -0.9955596923828125]]\n",
      "New Y value: -0.031890869140625\n",
      "Generated timestamp: 2024-09-03 11:33:10\n",
      "Saved data: [['2024-09-03 11:33:10', -0.009613037109375, -0.031890869140625, -0.9955596923828125]]\n",
      "New Z value: -0.996337890625\n",
      "Generated timestamp: 2024-09-03 11:33:11\n",
      "Saved data: [['2024-09-03 11:33:11', -0.009613037109375, -0.031890869140625, -0.996337890625]]\n"
     ]
    },
    {
     "name": "stderr",
     "output_type": "stream",
     "text": [
      "ERROR:root:task: mqtt_task raised exception: TLS/SSL connection has been closed (EOF) (_ssl.c:2483).\n",
      "ERROR:root:task: connection_task raised exception: .\n"
     ]
    },
    {
     "name": "stdout",
     "output_type": "stream",
     "text": [
      "New X value: -0.0083160400390625\n",
      "Generated timestamp: 2024-09-03 11:33:19\n",
      "Saved data: [['2024-09-03 11:33:19', -0.0083160400390625, -0.031890869140625, -0.996337890625]]\n",
      "New Y value: -0.0319061279296875\n",
      "Generated timestamp: 2024-09-03 11:33:20\n",
      "Saved data: [['2024-09-03 11:33:20', -0.0083160400390625, -0.0319061279296875, -0.996337890625]]\n",
      "New Z value: -0.996002197265625\n",
      "Generated timestamp: 2024-09-03 11:33:21\n",
      "Saved data: [['2024-09-03 11:33:21', -0.0083160400390625, -0.0319061279296875, -0.996002197265625]]\n"
     ]
    },
    {
     "name": "stderr",
     "output_type": "stream",
     "text": [
      "ERROR:root:task: mqtt_task raised exception: TLS/SSL connection has been closed (EOF) (_ssl.c:2483).\n",
      "ERROR:root:task: connection_task raised exception: .\n"
     ]
    },
    {
     "name": "stdout",
     "output_type": "stream",
     "text": [
      "New X value: -0.0065765380859375\n",
      "Generated timestamp: 2024-09-03 11:33:32\n",
      "Saved data: [['2024-09-03 11:33:32', -0.0065765380859375, -0.0319061279296875, -0.996002197265625]]\n",
      "New Y value: -0.0348052978515625\n",
      "Generated timestamp: 2024-09-03 11:33:33\n",
      "Saved data: [['2024-09-03 11:33:33', -0.0065765380859375, -0.0348052978515625, -0.996002197265625]]\n",
      "New Z value: -0.9961395263671875\n",
      "Generated timestamp: 2024-09-03 11:33:34\n",
      "Saved data: [['2024-09-03 11:33:34', -0.0065765380859375, -0.0348052978515625, -0.9961395263671875]]\n",
      "New X value: -0.0111236572265625\n",
      "Generated timestamp: 2024-09-03 11:33:35\n",
      "Saved data: [['2024-09-03 11:33:35', -0.0111236572265625, -0.0348052978515625, -0.9961395263671875]]\n",
      "New Y value: -0.034454345703125\n",
      "Generated timestamp: 2024-09-03 11:33:36\n",
      "Saved data: [['2024-09-03 11:33:36', -0.0111236572265625, -0.034454345703125, -0.9961395263671875]]\n",
      "New Z value: -0.9957733154296875\n",
      "Generated timestamp: 2024-09-03 11:33:37\n",
      "Saved data: [['2024-09-03 11:33:37', -0.0111236572265625, -0.034454345703125, -0.9957733154296875]]\n"
     ]
    },
    {
     "name": "stderr",
     "output_type": "stream",
     "text": [
      "ERROR:root:task: mqtt_task raised exception: TLS/SSL connection has been closed (EOF) (_ssl.c:2483).\n",
      "ERROR:root:task: connection_task raised exception: .\n"
     ]
    },
    {
     "name": "stdout",
     "output_type": "stream",
     "text": [
      "New X value: -0.0075836181640625\n",
      "Generated timestamp: 2024-09-03 11:33:45\n",
      "Saved data: [['2024-09-03 11:33:45', -0.0075836181640625, -0.034454345703125, -0.9957733154296875]]\n",
      "New Y value: -0.0323638916015625\n",
      "Generated timestamp: 2024-09-03 11:33:46\n",
      "Saved data: [['2024-09-03 11:33:46', -0.0075836181640625, -0.0323638916015625, -0.9957733154296875]]\n",
      "New Z value: -0.9954681396484375\n",
      "Generated timestamp: 2024-09-03 11:33:47\n",
      "Saved data: [['2024-09-03 11:33:47', -0.0075836181640625, -0.0323638916015625, -0.9954681396484375]]\n",
      "New X value: -0.0074005126953125\n",
      "Generated timestamp: 2024-09-03 11:33:48\n",
      "Saved data: [['2024-09-03 11:33:48', -0.0074005126953125, -0.0323638916015625, -0.9954681396484375]]\n",
      "New Y value: -0.0344696044921875\n",
      "Generated timestamp: 2024-09-03 11:33:49\n",
      "Saved data: [['2024-09-03 11:33:49', -0.0074005126953125, -0.0344696044921875, -0.9954681396484375]]\n",
      "New Z value: -0.996246337890625\n",
      "Generated timestamp: 2024-09-03 11:33:50\n",
      "Saved data: [['2024-09-03 11:33:50', -0.0074005126953125, -0.0344696044921875, -0.996246337890625]]\n"
     ]
    },
    {
     "name": "stderr",
     "output_type": "stream",
     "text": [
      "ERROR:root:task: mqtt_task raised exception: TLS/SSL connection has been closed (EOF) (_ssl.c:2483).\n",
      "ERROR:root:task: connection_task raised exception: .\n"
     ]
    },
    {
     "name": "stdout",
     "output_type": "stream",
     "text": [
      "New X value: -0.007568359375\n",
      "Generated timestamp: 2024-09-03 11:33:58\n",
      "Saved data: [['2024-09-03 11:33:58', -0.007568359375, -0.0344696044921875, -0.996246337890625]]\n",
      "New Y value: -0.0350341796875\n",
      "Generated timestamp: 2024-09-03 11:33:59\n",
      "Saved data: [['2024-09-03 11:33:59', -0.007568359375, -0.0350341796875, -0.996246337890625]]\n",
      "New Z value: -0.99615478515625\n",
      "Generated timestamp: 2024-09-03 11:34:00\n",
      "Saved data: [['2024-09-03 11:34:00', -0.007568359375, -0.0350341796875, -0.99615478515625]]\n",
      "New X value: -0.005035400390625\n",
      "Generated timestamp: 2024-09-03 11:34:01\n",
      "Saved data: [['2024-09-03 11:34:01', -0.005035400390625, -0.0350341796875, -0.99615478515625]]\n",
      "New Y value: -0.0330352783203125\n",
      "Generated timestamp: 2024-09-03 11:34:02\n",
      "Saved data: [['2024-09-03 11:34:02', -0.005035400390625, -0.0330352783203125, -0.99615478515625]]\n",
      "New Z value: -0.9956207275390625\n",
      "Generated timestamp: 2024-09-03 11:34:03\n",
      "Saved data: [['2024-09-03 11:34:03', -0.005035400390625, -0.0330352783203125, -0.9956207275390625]]\n"
     ]
    },
    {
     "name": "stderr",
     "output_type": "stream",
     "text": [
      "ERROR:root:task: mqtt_task raised exception: TLS/SSL connection has been closed (EOF) (_ssl.c:2483).\n",
      "ERROR:root:task: connection_task raised exception: .\n"
     ]
    },
    {
     "name": "stdout",
     "output_type": "stream",
     "text": [
      "New X value: -0.00689697265625\n",
      "Generated timestamp: 2024-09-03 11:34:11\n",
      "Saved data: [['2024-09-03 11:34:11', -0.00689697265625, -0.0330352783203125, -0.9956207275390625]]\n",
      "New Y value: -0.033233642578125\n",
      "Generated timestamp: 2024-09-03 11:34:12\n",
      "Saved data: [['2024-09-03 11:34:12', -0.00689697265625, -0.033233642578125, -0.9956207275390625]]\n",
      "New Z value: -0.9964447021484375\n",
      "Generated timestamp: 2024-09-03 11:34:13\n",
      "Saved data: [['2024-09-03 11:34:13', -0.00689697265625, -0.033233642578125, -0.9964447021484375]]\n",
      "New X value: -0.0078582763671875\n",
      "Generated timestamp: 2024-09-03 11:34:14\n",
      "Saved data: [['2024-09-03 11:34:14', -0.0078582763671875, -0.033233642578125, -0.9964447021484375]]\n",
      "New Y value: -0.033843994140625\n",
      "Generated timestamp: 2024-09-03 11:34:15\n",
      "Saved data: [['2024-09-03 11:34:15', -0.0078582763671875, -0.033843994140625, -0.9964447021484375]]\n",
      "New Z value: -0.99554443359375\n",
      "Generated timestamp: 2024-09-03 11:34:16\n",
      "Saved data: [['2024-09-03 11:34:16', -0.0078582763671875, -0.033843994140625, -0.99554443359375]]\n"
     ]
    },
    {
     "name": "stderr",
     "output_type": "stream",
     "text": [
      "ERROR:root:task: mqtt_task raised exception: TLS/SSL connection has been closed (EOF) (_ssl.c:2483).\n",
      "ERROR:root:task: connection_task raised exception: .\n"
     ]
    },
    {
     "name": "stdout",
     "output_type": "stream",
     "text": [
      "New X value: -0.007568359375\n",
      "Generated timestamp: 2024-09-03 11:34:25\n",
      "Saved data: [['2024-09-03 11:34:25', -0.007568359375, -0.033843994140625, -0.99554443359375]]\n",
      "New Y value: -0.0318145751953125\n",
      "Generated timestamp: 2024-09-03 11:34:26\n",
      "Saved data: [['2024-09-03 11:34:26', -0.007568359375, -0.0318145751953125, -0.99554443359375]]\n",
      "New Z value: -0.996246337890625\n",
      "Generated timestamp: 2024-09-03 11:34:27\n",
      "Saved data: [['2024-09-03 11:34:27', -0.007568359375, -0.0318145751953125, -0.996246337890625]]\n",
      "New X value: -0.00689697265625\n",
      "Generated timestamp: 2024-09-03 11:34:28\n",
      "Saved data: [['2024-09-03 11:34:28', -0.00689697265625, -0.0318145751953125, -0.996246337890625]]\n",
      "New Y value: -0.0330352783203125\n",
      "Generated timestamp: 2024-09-03 11:34:29\n",
      "Saved data: [['2024-09-03 11:34:29', -0.00689697265625, -0.0330352783203125, -0.996246337890625]]\n",
      "New Z value: -0.99517822265625\n",
      "Generated timestamp: 2024-09-03 11:34:30\n",
      "Saved data: [['2024-09-03 11:34:30', -0.00689697265625, -0.0330352783203125, -0.99517822265625]]\n"
     ]
    },
    {
     "name": "stderr",
     "output_type": "stream",
     "text": [
      "ERROR:root:task: mqtt_task raised exception: TLS/SSL connection has been closed (EOF) (_ssl.c:2483).\n",
      "ERROR:root:task: connection_task raised exception: .\n"
     ]
    },
    {
     "name": "stdout",
     "output_type": "stream",
     "text": [
      "New X value: -0.0069427490234375\n",
      "Generated timestamp: 2024-09-03 11:34:38\n",
      "Saved data: [['2024-09-03 11:34:38', -0.0069427490234375, -0.0330352783203125, -0.99517822265625]]\n",
      "New Y value: -0.0320587158203125\n",
      "Generated timestamp: 2024-09-03 11:34:39\n",
      "Saved data: [['2024-09-03 11:34:39', -0.0069427490234375, -0.0320587158203125, -0.99517822265625]]\n",
      "New Z value: -0.9966278076171875\n",
      "Generated timestamp: 2024-09-03 11:34:40\n",
      "Saved data: [['2024-09-03 11:34:40', -0.0069427490234375, -0.0320587158203125, -0.9966278076171875]]\n",
      "New X value: -0.006866455078125\n",
      "Generated timestamp: 2024-09-03 11:34:41\n",
      "Saved data: [['2024-09-03 11:34:41', -0.006866455078125, -0.0320587158203125, -0.9966278076171875]]\n",
      "New Y value: -0.0323486328125\n",
      "Generated timestamp: 2024-09-03 11:34:42\n",
      "Saved data: [['2024-09-03 11:34:42', -0.006866455078125, -0.0323486328125, -0.9966278076171875]]\n",
      "New Z value: -0.9951019287109375\n",
      "Generated timestamp: 2024-09-03 11:34:43\n",
      "Saved data: [['2024-09-03 11:34:43', -0.006866455078125, -0.0323486328125, -0.9951019287109375]]\n"
     ]
    },
    {
     "name": "stderr",
     "output_type": "stream",
     "text": [
      "ERROR:root:task: mqtt_task raised exception: TLS/SSL connection has been closed (EOF) (_ssl.c:2483).\n",
      "ERROR:root:task: connection_task raised exception: .\n"
     ]
    },
    {
     "name": "stdout",
     "output_type": "stream",
     "text": [
      "New X value: -0.007904052734375\n",
      "Generated timestamp: 2024-09-03 11:34:51\n",
      "Saved data: [['2024-09-03 11:34:51', -0.007904052734375, -0.0323486328125, -0.9951019287109375]]\n",
      "New Y value: -0.0349884033203125\n",
      "Generated timestamp: 2024-09-03 11:34:52\n",
      "Saved data: [['2024-09-03 11:34:52', -0.007904052734375, -0.0349884033203125, -0.9951019287109375]]\n",
      "New Z value: -0.993927001953125\n",
      "Generated timestamp: 2024-09-03 11:34:53\n",
      "Saved data: [['2024-09-03 11:34:53', -0.007904052734375, -0.0349884033203125, -0.993927001953125]]\n",
      "New X value: -0.00665283203125\n",
      "Generated timestamp: 2024-09-03 11:34:54\n",
      "Saved data: [['2024-09-03 11:34:54', -0.00665283203125, -0.0349884033203125, -0.993927001953125]]\n",
      "New Y value: -0.03167724609375\n",
      "Generated timestamp: 2024-09-03 11:34:55\n",
      "Saved data: [['2024-09-03 11:34:55', -0.00665283203125, -0.03167724609375, -0.993927001953125]]\n",
      "New Z value: -0.9967041015625\n",
      "Generated timestamp: 2024-09-03 11:34:56\n",
      "Saved data: [['2024-09-03 11:34:56', -0.00665283203125, -0.03167724609375, -0.9967041015625]]\n"
     ]
    },
    {
     "name": "stderr",
     "output_type": "stream",
     "text": [
      "ERROR:root:task: mqtt_task raised exception: TLS/SSL connection has been closed (EOF) (_ssl.c:2483).\n",
      "ERROR:root:task: connection_task raised exception: .\n"
     ]
    },
    {
     "name": "stdout",
     "output_type": "stream",
     "text": [
      "New X value: -0.0053558349609375\n",
      "Generated timestamp: 2024-09-03 11:35:04\n",
      "Saved data: [['2024-09-03 11:35:04', -0.0053558349609375, -0.03167724609375, -0.9967041015625]]\n",
      "New Y value: -0.0329742431640625\n",
      "Generated timestamp: 2024-09-03 11:35:05\n",
      "Saved data: [['2024-09-03 11:35:05', -0.0053558349609375, -0.0329742431640625, -0.9967041015625]]\n",
      "New Z value: -0.99481201171875\n",
      "Generated timestamp: 2024-09-03 11:35:06\n",
      "Saved data: [['2024-09-03 11:35:06', -0.0053558349609375, -0.0329742431640625, -0.99481201171875]]\n",
      "New X value: -0.007598876953125\n",
      "Generated timestamp: 2024-09-03 11:35:07\n",
      "Saved data: [['2024-09-03 11:35:07', -0.007598876953125, -0.0329742431640625, -0.99481201171875]]\n",
      "New Y value: -0.0325927734375\n",
      "Generated timestamp: 2024-09-03 11:35:08\n",
      "Saved data: [['2024-09-03 11:35:08', -0.007598876953125, -0.0325927734375, -0.99481201171875]]\n",
      "New Z value: -0.9966888427734375\n",
      "Generated timestamp: 2024-09-03 11:35:09\n",
      "Saved data: [['2024-09-03 11:35:09', -0.007598876953125, -0.0325927734375, -0.9966888427734375]]\n"
     ]
    },
    {
     "name": "stderr",
     "output_type": "stream",
     "text": [
      "ERROR:root:task: mqtt_task raised exception: TLS/SSL connection has been closed (EOF) (_ssl.c:2483).\n",
      "ERROR:root:task: connection_task raised exception: .\n"
     ]
    },
    {
     "name": "stdout",
     "output_type": "stream",
     "text": [
      "New X value: -0.00775146484375\n",
      "Generated timestamp: 2024-09-03 11:35:17\n",
      "Saved data: [['2024-09-03 11:35:17', -0.00775146484375, -0.0325927734375, -0.9966888427734375]]\n",
      "New Y value: -0.0323486328125\n",
      "Generated timestamp: 2024-09-03 11:35:18\n",
      "Saved data: [['2024-09-03 11:35:18', -0.00775146484375, -0.0323486328125, -0.9966888427734375]]\n",
      "New Z value: -0.9962615966796875\n",
      "Generated timestamp: 2024-09-03 11:35:19\n",
      "Saved data: [['2024-09-03 11:35:19', -0.00775146484375, -0.0323486328125, -0.9962615966796875]]\n",
      "New X value: -0.007843017578125\n",
      "Generated timestamp: 2024-09-03 11:35:20\n",
      "Saved data: [['2024-09-03 11:35:20', -0.007843017578125, -0.0323486328125, -0.9962615966796875]]\n",
      "New Y value: -0.0339813232421875\n",
      "Generated timestamp: 2024-09-03 11:35:21\n",
      "Saved data: [['2024-09-03 11:35:21', -0.007843017578125, -0.0339813232421875, -0.9962615966796875]]\n",
      "New Z value: -0.99560546875\n",
      "Generated timestamp: 2024-09-03 11:35:22\n",
      "Saved data: [['2024-09-03 11:35:22', -0.007843017578125, -0.0339813232421875, -0.99560546875]]\n"
     ]
    },
    {
     "name": "stderr",
     "output_type": "stream",
     "text": [
      "ERROR:root:task: mqtt_task raised exception: TLS/SSL connection has been closed (EOF) (_ssl.c:2483).\n",
      "ERROR:root:task: connection_task raised exception: .\n"
     ]
    },
    {
     "name": "stdout",
     "output_type": "stream",
     "text": [
      "New X value: -0.008270263671875\n",
      "Generated timestamp: 2024-09-03 11:35:29\n",
      "Saved data: [['2024-09-03 11:35:29', -0.008270263671875, -0.0339813232421875, -0.99560546875]]\n",
      "New Y value: -0.0340576171875\n",
      "Generated timestamp: 2024-09-03 11:35:30\n",
      "Saved data: [['2024-09-03 11:35:30', -0.008270263671875, -0.0340576171875, -0.99560546875]]\n",
      "New Z value: -0.99688720703125\n",
      "Generated timestamp: 2024-09-03 11:35:31\n",
      "Saved data: [['2024-09-03 11:35:31', -0.008270263671875, -0.0340576171875, -0.99688720703125]]\n",
      "New X value: -0.0055694580078125\n",
      "Generated timestamp: 2024-09-03 11:35:33\n",
      "Saved data: [['2024-09-03 11:35:33', -0.0055694580078125, -0.0340576171875, -0.99688720703125]]\n",
      "New Y value: -0.03564453125\n",
      "Generated timestamp: 2024-09-03 11:35:34\n",
      "Saved data: [['2024-09-03 11:35:34', -0.0055694580078125, -0.03564453125, -0.99688720703125]]\n",
      "New Z value: -0.996185302734375\n",
      "Generated timestamp: 2024-09-03 11:35:35\n",
      "Saved data: [['2024-09-03 11:35:35', -0.0055694580078125, -0.03564453125, -0.996185302734375]]\n"
     ]
    },
    {
     "name": "stderr",
     "output_type": "stream",
     "text": [
      "ERROR:root:task: mqtt_task raised exception: TLS/SSL connection has been closed (EOF) (_ssl.c:2483).\n",
      "ERROR:root:task: connection_task raised exception: .\n"
     ]
    },
    {
     "name": "stdout",
     "output_type": "stream",
     "text": [
      "New X value: -0.010498046875\n",
      "Generated timestamp: 2024-09-03 11:35:43\n",
      "Saved data: [['2024-09-03 11:35:43', -0.010498046875, -0.03564453125, -0.996185302734375]]\n",
      "New Y value: -0.0300445556640625\n",
      "Generated timestamp: 2024-09-03 11:35:44\n",
      "Saved data: [['2024-09-03 11:35:44', -0.010498046875, -0.0300445556640625, -0.996185302734375]]\n",
      "New Z value: -0.995941162109375\n",
      "Generated timestamp: 2024-09-03 11:35:45\n",
      "Saved data: [['2024-09-03 11:35:45', -0.010498046875, -0.0300445556640625, -0.995941162109375]]\n"
     ]
    },
    {
     "name": "stderr",
     "output_type": "stream",
     "text": [
      "ERROR:root:task: mqtt_task raised exception: TLS/SSL connection has been closed (EOF) (_ssl.c:2483).\n",
      "ERROR:root:task: connection_task raised exception: .\n"
     ]
    },
    {
     "name": "stdout",
     "output_type": "stream",
     "text": [
      "New X value: -0.007843017578125\n",
      "Generated timestamp: 2024-09-03 11:35:57\n",
      "Saved data: [['2024-09-03 11:35:57', -0.007843017578125, -0.0300445556640625, -0.995941162109375]]\n",
      "New Y value: -0.0327911376953125\n",
      "Generated timestamp: 2024-09-03 11:35:58\n",
      "Saved data: [['2024-09-03 11:35:58', -0.007843017578125, -0.0327911376953125, -0.995941162109375]]\n",
      "New Z value: -0.995147705078125\n",
      "Generated timestamp: 2024-09-03 11:35:59\n",
      "Saved data: [['2024-09-03 11:35:59', -0.007843017578125, -0.0327911376953125, -0.995147705078125]]\n"
     ]
    },
    {
     "name": "stderr",
     "output_type": "stream",
     "text": [
      "ERROR:root:task: mqtt_task raised exception: TLS/SSL connection has been closed (EOF) (_ssl.c:2483).\n",
      "ERROR:root:task: connection_task raised exception: .\n"
     ]
    },
    {
     "name": "stdout",
     "output_type": "stream",
     "text": [
      "New X value: 0.2221221923828125\n",
      "Generated timestamp: 2024-09-03 11:36:10\n",
      "Saved data: [['2024-09-03 11:36:10', 0.2221221923828125, -0.0327911376953125, -0.995147705078125]]\n",
      "New Y value: 0.004547119140625\n",
      "Generated timestamp: 2024-09-03 11:36:11\n",
      "Saved data: [['2024-09-03 11:36:11', 0.2221221923828125, 0.004547119140625, -0.995147705078125]]\n",
      "New Z value: -0.976959228515625\n",
      "Generated timestamp: 2024-09-03 11:36:12\n",
      "Saved data: [['2024-09-03 11:36:12', 0.2221221923828125, 0.004547119140625, -0.976959228515625]]\n"
     ]
    },
    {
     "name": "stderr",
     "output_type": "stream",
     "text": [
      "ERROR:root:task: mqtt_task raised exception: TLS/SSL connection has been closed (EOF) (_ssl.c:2483).\n",
      "ERROR:root:task: connection_task raised exception: .\n",
      "ERROR:root:task: mqtt_task raised exception: TLS/SSL connection has been closed (EOF) (_ssl.c:2483).\n",
      "ERROR:root:task: connection_task raised exception: .\n",
      "ERROR:root:task: mqtt_task raised exception: TLS/SSL connection has been closed (EOF) (_ssl.c:2483).\n",
      "ERROR:root:task: connection_task raised exception: .\n",
      "ERROR:root:task: mqtt_task raised exception: TLS/SSL connection has been closed (EOF) (_ssl.c:2483).\n",
      "ERROR:root:task: connection_task raised exception: .\n",
      "ERROR:root:task: mqtt_task raised exception: TLS/SSL connection has been closed (EOF) (_ssl.c:2483).\n",
      "ERROR:root:task: connection_task raised exception: .\n",
      "ERROR:root:task: mqtt_task raised exception: TLS/SSL connection has been closed (EOF) (_ssl.c:2483).\n",
      "ERROR:root:task: connection_task raised exception: .\n",
      "ERROR:root:task: mqtt_task raised exception: TLS/SSL connection has been closed (EOF) (_ssl.c:2483).\n",
      "ERROR:root:task: connection_task raised exception: .\n",
      "ERROR:root:task: mqtt_task raised exception: TLS/SSL connection has been closed (EOF) (_ssl.c:2483).\n",
      "ERROR:root:task: connection_task raised exception: .\n",
      "ERROR:root:task: mqtt_task raised exception: TLS/SSL connection has been closed (EOF) (_ssl.c:2483).\n"
     ]
    }
   ],
   "source": [
    "import sys\n",
    "import traceback\n",
    "import asyncio\n",
    "import nest_asyncio\n",
    "from threading import Thread\n",
    "from arduino_iot_cloud import ArduinoCloudClient\n",
    "import csv\n",
    "import os.path\n",
    "from datetime import datetime\n",
    "\n",
    "# Enable nested asyncio loops to allow for the proper handling of asynchronous tasks\n",
    "nest_asyncio.apply()\n",
    "\n",
    "DEVICE_ID = \"e5ea5829-0f0a-4e43-b462-c6c9c9df5d8f\"\n",
    "SECRET_KEY = \"hS6Ty2@3?NcNGF5xVelU?L0nq\"\n",
    "\n",
    "# CSV file names\n",
    "COMBINED_CSV = 'Python_Accelerometer_Combined.csv'\n",
    "\n",
    "# Global variable to store the latest values\n",
    "latest_values = {\n",
    "    'X': None,\n",
    "    'Y': None,\n",
    "    'Z': None,\n",
    "    'timestamp': None\n",
    "}\n",
    "\n",
    "# Returns timestamp of now in a human-readable format\n",
    "def get_time_stamp() -> str:\n",
    "    now = datetime.now()  # now stores current time\n",
    "    timeStamp = now.strftime('%Y-%m-%d %H:%M:%S')  # Format timestamp as YYYY-MM-DD HH:MM:SS\n",
    "    print(f\"Generated timestamp: {timeStamp}\")  # Debug print\n",
    "    return timeStamp\n",
    "\n",
    "# Checks if file exists and creates it\n",
    "def check_file_exist(filename: str) -> None:\n",
    "    # Check if file path exists\n",
    "    if not os.path.isfile(filename):\n",
    "        # Create field header names\n",
    "        fields = ['timestamp', 'X_value', 'Y_value', 'Z_value']\n",
    "        # Create a CSV file\n",
    "        with open(filename, 'w', newline='') as csvFile:\n",
    "            writer = csv.DictWriter(csvFile, fieldnames=fields)\n",
    "            writer.writeheader()\n",
    "\n",
    "# Prepares values to be saved and saves to a CSV file\n",
    "def save_changed_values(filename: str) -> None:\n",
    "    if latest_values['X'] is not None and latest_values['Y'] is not None and latest_values['Z'] is not None:\n",
    "        # Prepare data for writing to CSV\n",
    "        newData = [[latest_values['timestamp'], latest_values['X'], latest_values['Y'], latest_values['Z']]]\n",
    "        # Add data to CSV file\n",
    "        with open(filename, 'a', newline='') as csvFile:\n",
    "            writer = csv.writer(csvFile)\n",
    "            writer.writerows(newData)\n",
    "        print(f\"Saved data: {newData}\")  # Debug print\n",
    "\n",
    "# Callback functions for each axis\n",
    "def on_x_changed(client, value: float) -> None:\n",
    "    print(f'New X value: {value}')\n",
    "    latest_values['X'] = value\n",
    "    latest_values['timestamp'] = get_time_stamp()\n",
    "    save_changed_values(COMBINED_CSV)\n",
    "\n",
    "def on_y_changed(client, value: float) -> None:\n",
    "    print(f'New Y value: {value}')\n",
    "    latest_values['Y'] = value\n",
    "    latest_values['timestamp'] = get_time_stamp()\n",
    "    save_changed_values(COMBINED_CSV)\n",
    "\n",
    "def on_z_changed(client, value: float) -> None:\n",
    "    print(f'New Z value: {value}')\n",
    "    latest_values['Z'] = value\n",
    "    latest_values['timestamp'] = get_time_stamp()\n",
    "    save_changed_values(COMBINED_CSV)\n",
    "\n",
    "# Asynchronous function to run the Arduino Cloud client\n",
    "async def run_client():\n",
    "    print(\"Connect to Client\")\n",
    "\n",
    "    client = ArduinoCloudClient(device_id=DEVICE_ID, username=DEVICE_ID, password=SECRET_KEY)\n",
    "    client.register(\"acc_X\", value=None, on_write=on_x_changed)\n",
    "    client.register(\"acc_Y\", value=None, on_write=on_y_changed)\n",
    "    client.register(\"acc_Z\", value=None, on_write=on_z_changed)\n",
    "    \n",
    "    # Providing interval and backoff arguments\n",
    "    await client.run(interval=5, backoff=2)\n",
    "\n",
    "# Run the asynchronous function in a new thread\n",
    "def start_client():\n",
    "    loop = asyncio.new_event_loop()\n",
    "    asyncio.set_event_loop(loop)\n",
    "    loop.run_until_complete(run_client())\n",
    "\n",
    "if __name__ == \"__main__\":\n",
    "    try:\n",
    "        check_file_exist(COMBINED_CSV)\n",
    "        \n",
    "        # Start the client in a new thread\n",
    "        thread = Thread(target=start_client)\n",
    "        thread.start()\n",
    "        \n",
    "        # Main thread can continue with other tasks if needed\n",
    "        thread.join()  # Wait for the thread to finish if you want synchronous execution\n",
    "        \n",
    "    except Exception as e:\n",
    "        exc_type, exc_value, exc_traceback = sys.exc_info()\n",
    "        traceback.print_tb(exc_traceback, file=sys.stdout)\n"
   ]
  },
  {
   "cell_type": "code",
   "execution_count": null,
   "id": "08b516ce-5fd0-49ec-84c0-622c0e4ef6c6",
   "metadata": {},
   "outputs": [],
   "source": []
  }
 ],
 "metadata": {
  "kernelspec": {
   "display_name": "Python 3 (ipykernel)",
   "language": "python",
   "name": "python3"
  },
  "language_info": {
   "codemirror_mode": {
    "name": "ipython",
    "version": 3
   },
   "file_extension": ".py",
   "mimetype": "text/x-python",
   "name": "python",
   "nbconvert_exporter": "python",
   "pygments_lexer": "ipython3",
   "version": "3.9.13"
  }
 },
 "nbformat": 4,
 "nbformat_minor": 5
}
